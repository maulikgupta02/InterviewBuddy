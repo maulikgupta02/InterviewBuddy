{
 "cells": [
  {
   "cell_type": "code",
   "execution_count": 12,
   "metadata": {},
   "outputs": [],
   "source": [
    "from langchain_community.document_loaders import PyPDFLoader\n",
    "loader = PyPDFLoader(\"RajatSachdeva5y_6m.pdf\")\n",
    "resume = loader.load()\n",
    "resume=\"\\n\".join(doc.page_content for doc in resume)"
   ]
  },
  {
   "cell_type": "code",
   "execution_count": 13,
   "metadata": {},
   "outputs": [],
   "source": [
    "# from docx2pdf import convert\n",
    "\n",
    "# convert(\"Draft_AI_LLM_Engineer.docx\")\n",
    "# convert(\"input.docx\", \"output.pdf\")\n",
    "# convert(\"my_docx_folder/\")"
   ]
  },
  {
   "cell_type": "code",
   "execution_count": 15,
   "metadata": {},
   "outputs": [],
   "source": [
    "from langchain_community.document_loaders import PyPDFLoader\n",
    "loader = PyPDFLoader(\"JD/Draft_AI_LLM_Engineer.pdf\")\n",
    "jd = loader.load()\n",
    "jd=\"\\n\".join(doc.page_content for doc in jd)"
   ]
  },
  {
   "cell_type": "markdown",
   "metadata": {},
   "source": [
    "# **Agentic RAG Implementation**"
   ]
  },
  {
   "cell_type": "markdown",
   "metadata": {},
   "source": [
    "# Defining Custom Tools"
   ]
  },
  {
   "cell_type": "markdown",
   "metadata": {},
   "source": [
    "### Tool for downloading the interview chat history"
   ]
  },
  {
   "cell_type": "code",
   "execution_count": 2,
   "metadata": {},
   "outputs": [
    {
     "name": "stdout",
     "output_type": "stream",
     "text": [
      "tool name: store_history\n",
      "tool description: Download the chat history on the system\n",
      "tool arguments: {'interview_doc': {'title': 'Interview Doc', 'type': 'string'}, 'candidate': {'title': 'Candidate', 'type': 'string'}}\n"
     ]
    }
   ],
   "source": [
    "from langchain.tools import tool\n",
    "import os\n",
    "\n",
    "@tool\n",
    "def store_history(interview_doc:str, candidate:str) -> str:\n",
    "    \"\"\"\n",
    "    Download the chat history on the system\n",
    "    \"\"\"\n",
    "\n",
    "    # function definition starts from here\n",
    "\n",
    "    directories=os.listdir()\n",
    "    if 'interview' not in directories:\n",
    "        os.mkdir('interview')\n",
    "\n",
    "    file_path=f\"interview/{candidate}.txt\"\n",
    "\n",
    "    with open(file_path,'w+') as file:\n",
    "        file.writelines(interview_doc)\n",
    "\n",
    "    return file_path\n",
    "\n",
    "\n",
    "print(\"tool name:\",store_history.name)\n",
    "print(\"tool description:\",store_history.description)\n",
    "print(\"tool arguments:\",store_history.args)"
   ]
  },
  {
   "cell_type": "markdown",
   "metadata": {},
   "source": [
    "##### Test run"
   ]
  },
  {
   "cell_type": "code",
   "execution_count": 7,
   "metadata": {},
   "outputs": [
    {
     "name": "stderr",
     "output_type": "stream",
     "text": [
      "c:\\Users\\BYPB5362\\AppData\\Local\\Programs\\Python\\Python312\\Lib\\site-packages\\langchain_core\\_api\\deprecation.py:139: LangChainDeprecationWarning: The method `BaseTool.__call__` was deprecated in langchain-core 0.1.47 and will be removed in 0.3.0. Use invoke instead.\n",
      "  warn_deprecated(\n"
     ]
    },
    {
     "data": {
      "text/plain": [
       "'interview/test.txt'"
      ]
     },
     "execution_count": 7,
     "metadata": {},
     "output_type": "execute_result"
    }
   ],
   "source": [
    "store_history(tool_input={'interview_doc':'test','candidate':'test'})"
   ]
  },
  {
   "cell_type": "markdown",
   "metadata": {},
   "source": [
    "### Tool for testing against the benchmark"
   ]
  },
  {
   "cell_type": "code",
   "execution_count": 3,
   "metadata": {},
   "outputs": [
    {
     "name": "stdout",
     "output_type": "stream",
     "text": [
      "tool name: get_report\n",
      "tool description: Test the interview chat against a benchmark and store the report\n",
      "tool arguments: {'questions': {'title': 'Questions', 'type': 'array', 'items': {}}, 'responses': {'title': 'Responses', 'type': 'array', 'items': {}}}\n"
     ]
    }
   ],
   "source": [
    "from langchain.tools import tool\n",
    "from dotenv import load_dotenv\n",
    "from openai import AzureOpenAI\n",
    "import pandas as pd\n",
    "import os\n",
    "\n",
    "load_dotenv()\n",
    "\n",
    "\n",
    "@tool\n",
    "def get_report(questions:list, responses:list) -> str:\n",
    "    \"\"\"\n",
    "    Test the interview chat against a benchmark and store the report \n",
    "    \"\"\"\n",
    "\n",
    "    rubrics=pd.read_csv(\"eval_rubrics.csv\")\n",
    "\n",
    "    # function definition starts here\n",
    "\n",
    "    client = AzureOpenAI(\n",
    "    api_key = os.getenv(\"AZURE_OPENAI_4o_API_KEY\"),  \n",
    "    api_version = os.getenv(\"API_VERSION_4o\"),\n",
    "    azure_endpoint = os.getenv(\"AZURE_OPENAI_4o_ENDPOINT\")\n",
    "    )\n",
    "\n",
    "    response = client.chat.completions.create(\n",
    "        model=\"gpt-4o\",\n",
    "        messages=[\n",
    "            {\"role\": \"system\", \"content\": f\"\"\"You are a corporate interviewer responsible for grading the candidates according to their responses \\\n",
    "             This is the criterian for evaluation {rubrics}. \\\n",
    "\n",
    "             Question asked from the candidate: {questions[-1]}. \\\n",
    "             Response given by the candidate: {responses[-1]}. \\\n",
    "             Just give the scores without explaination under each criteria according to the relevance to the job. \\\n",
    "             Give answer in the following format: Relevance,4\\nAccuracy,3\\nClarity,3\\nDepth,2\\nLanguage Use,3\\nCompleteness,2 \n",
    " \"\"\"}])\n",
    "\n",
    "    score=response.choices[0].message.content\n",
    "    # score=score.replace(',',':')\n",
    "\n",
    "    return score\n",
    "\n",
    "            #  This is the candidate's resume: {resume}. \\\n",
    "            #  This is the job description: {jd}. \\\n",
    "\n",
    "print(\"tool name:\",get_report.name)\n",
    "print(\"tool description:\",get_report.description)\n",
    "print(\"tool arguments:\",get_report.args)"
   ]
  },
  {
   "cell_type": "code",
   "execution_count": 12,
   "metadata": {},
   "outputs": [
    {
     "data": {
      "text/plain": [
       "'Relevance:1\\nAccuracy:1\\nClarity:1\\nDepth:1\\nLanguage Use:2\\nCompleteness:1'"
      ]
     },
     "execution_count": 12,
     "metadata": {},
     "output_type": "execute_result"
    }
   ],
   "source": [
    "from io import StringIO\n",
    "\n",
    "score=get_report(tool_input={\n",
    "    'questions':[\"\"\"Sure, Rajat. Let's shift to another aspect of your experience mentioned in your resume.\n",
    "\n",
    "You have substantial experience with Computer Vision and specifically mentioned using YOLO for object detection.\n",
    "\n",
    "**Question: Can you explain the process of setting up and using a YOLO (You Only Look Once) model for object detection? How do you prepare your dataset, train the model, and evaluate its performance? What considerations do you keep in mind for optimizing the training process?**\"\"\"],\n",
    "    'responses':[\"\"\"can we end this now\n",
    "\"\"\"]})\n",
    "score_csv = StringIO(score)\n",
    "score=score.replace(',',':')\n",
    "score"
   ]
  },
  {
   "cell_type": "code",
   "execution_count": 13,
   "metadata": {},
   "outputs": [
    {
     "data": {
      "text/plain": [
       "{'Relevance': 1,\n",
       " 'Accuracy': 1,\n",
       " 'Clarity': 1,\n",
       " 'Depth': 1,\n",
       " 'Language Use': 2,\n",
       " 'Completeness': 1}"
      ]
     },
     "execution_count": 13,
     "metadata": {},
     "output_type": "execute_result"
    }
   ],
   "source": [
    "df=pd.read_csv(score_csv,header=None)\n",
    "result_dict = df.set_index(0).to_dict()[1]\n",
    "result_dict"
   ]
  },
  {
   "cell_type": "markdown",
   "metadata": {},
   "source": [
    "### Question generating LLM as Tool"
   ]
  },
  {
   "cell_type": "code",
   "execution_count": 4,
   "metadata": {},
   "outputs": [
    {
     "name": "stdout",
     "output_type": "stream",
     "text": [
      "tool name: ask_question\n",
      "tool description: LLM for generating a new question to be asked from the candidate\n",
      "tool arguments: {'resume': {'title': 'Resume', 'type': 'string'}, 'jd': {'title': 'Jd', 'type': 'string'}, 'chat_history': {'title': 'Chat History', 'type': 'string'}}\n"
     ]
    }
   ],
   "source": [
    "import os\n",
    "from dotenv import load_dotenv\n",
    "from openai import AzureOpenAI\n",
    "from langchain.tools import tool\n",
    "\n",
    "load_dotenv()\n",
    "\n",
    "@tool\n",
    "def ask_question(resume:str, jd:str, chat_history:str) -> str:\n",
    "    \"\"\"\n",
    "    LLM for generating a new question to be asked from the candidate\n",
    "    \"\"\"\n",
    "\n",
    "    # function definition starts here\n",
    "\n",
    "    client = AzureOpenAI(\n",
    "    api_key = os.getenv(\"AZURE_OPENAI_4o_API_KEY\"),  \n",
    "    api_version = os.getenv(\"API_VERSION_4o\"),\n",
    "    azure_endpoint = os.getenv(\"AZURE_OPENAI_4o_ENDPOINT\")\n",
    "    )\n",
    "\n",
    "    response = client.chat.completions.create(\n",
    "        model=\"gpt-4o\",\n",
    "        messages=[\n",
    "            {\"role\": \"system\", \"content\": f\"\"\"You are a corporate interviewer responsible for taking candidate interviews. \\\n",
    "             This is a technical round, hence you need to ask questions regarding relevant technologies. \\\n",
    "             You may ask some short syntax or a conceptual question. \\\n",
    "             This is the job description: {jd}. \\\n",
    "             This is the candidate's resume: {resume}. \\\n",
    "             This is the past interaction you had with the candidate: {chat_history}. \\\n",
    "             Either ask a review question on candidate's last reponse or ask a new question. \\\n",
    "             Make sure to only ask a single question. \\\n",
    "             The question needs to be relevant to the job description or the candidate's past experience.\"\"\"}])\n",
    "\n",
    "    question=response.choices[0].message.content\n",
    "\n",
    "    return question\n",
    "\n",
    "\n",
    "print(\"tool name:\",ask_question.name)\n",
    "print(\"tool description:\",ask_question.description)\n",
    "print(\"tool arguments:\",ask_question.args)"
   ]
  },
  {
   "cell_type": "code",
   "execution_count": 3,
   "metadata": {},
   "outputs": [
    {
     "data": {
      "text/plain": [
       "'ask_question(resume: str, jd: str, chat_history: str) -> str - LLM for generating a new question to be asked from the candidate\\nstore_history(interview_doc: str, candidate: str) -> str - Download the chat history on the system'"
      ]
     },
     "execution_count": 3,
     "metadata": {},
     "output_type": "execute_result"
    }
   ],
   "source": [
    "from langchain.tools.render import render_text_description\n",
    "\n",
    "rendered_tools = render_text_description([ask_question,store_history])\n",
    "rendered_tools"
   ]
  },
  {
   "cell_type": "markdown",
   "metadata": {},
   "source": [
    "# ***Agent Implementation without langgraph***"
   ]
  },
  {
   "cell_type": "code",
   "execution_count": 11,
   "metadata": {},
   "outputs": [
    {
     "name": "stdout",
     "output_type": "stream",
     "text": [
      "Interviewer: Thank you for detailing your extensive experience, Rajat. You've touched on a significant number of points related to AI, ML, and automation frameworks. Given that the job role includes responsibilities like designing novel LLM architectures and advanced machine learning models training using frameworks such as TensorFlow and PyTorch, could you please elaborate on any specific projects where you've designed or implemented custom LLM architectures or applied advanced deep learning techniques using TensorFlow or PyTorch? Can you provide details on the challenges you faced and how you addressed them?\n"
     ]
    }
   ],
   "source": [
    "import os\n",
    "from dotenv import load_dotenv\n",
    "from openai import AzureOpenAI\n",
    "\n",
    "load_dotenv()\n",
    "\n",
    "client = AzureOpenAI(\n",
    "    api_key = os.getenv(\"AZURE_OPENAI_4o_API_KEY\"),  \n",
    "    api_version = os.getenv(\"API_VERSION_4o\"),\n",
    "    azure_endpoint = os.getenv(\"AZURE_OPENAI_4o_ENDPOINT\")\n",
    "    )\n",
    "\n",
    "questions=[]\n",
    "responses=[]\n",
    "scores={}\n",
    "\n",
    "def handle_interview(jd, resume, initial_chat_history):\n",
    "    chat_history = initial_chat_history\n",
    "    while True:\n",
    "        decision = client.chat.completions.create(\n",
    "        model=\"gpt-4o\",\n",
    "        messages=[\n",
    "            {\"role\": \"system\", \"content\": f\"\"\"\n",
    "                You are a corporate interviewer responsible for taking candidate interviews. Decide whether to ask another question or end the conversation.\n",
    "                This is the job description: {jd}.\n",
    "                This is the candidate's resume: {resume}.\n",
    "                This is the past interaction you had with the candidate: {chat_history}.\n",
    "                Respond with 'ask' to ask another question or 'end' to end the conversation.\n",
    "                \"\"\"}]).choices[0].message.content\n",
    "        if decision == 'ask':\n",
    "            question = ask_question(tool_input={'resume':resume, 'jd':jd, 'chat_history':chat_history})\n",
    "            questions.append(question)\n",
    "            chat_history += f\"\\nInterviewer: {question}\"\n",
    "            print(f\"Interviewer: {question} \\n\")\n",
    "            # break ################################################# for testing\n",
    "            candidate_response = input(\"Candidate: \")\n",
    "            responses.append(candidate_response)\n",
    "\n",
    "            score=get_report(tool_input={'questions':questions,'responses':responses})\n",
    "\n",
    "            chat_history += f\"\\nCandidate: {candidate_response}\\n\"\n",
    "            chat_history += f\"\\nScore: {score.replace(',',':')}\\n\\n\\n\"\n",
    "\n",
    "            from io import StringIO\n",
    "            score_csv = StringIO(score)\n",
    "            temp_df=pd.read_csv(score_csv,header=None)\n",
    "            result_dict = temp_df.set_index(0).to_dict()[1]\n",
    "            for i in list(result_dict.keys()):\n",
    "                if i not in scores:\n",
    "                    scores[i]=[result_dict[i]]\n",
    "                else:\n",
    "                    scores[i].append(result_dict[i])\n",
    "\n",
    "        elif decision == 'end':\n",
    "            print(\"Interview ended.\")\n",
    "            break\n",
    "        else:\n",
    "            print(\"Unexpected decision. Ending interview.\")\n",
    "            break\n",
    "\n",
    "    store_history(tool_input={'interview_doc':chat_history,'candidate':'test'})\n",
    "    scores.to_csv(\"reports/test.csv\",index=False)\n",
    "\n",
    "handle_interview(jd=jd, resume=resume, initial_chat_history=\"\")"
   ]
  },
  {
   "cell_type": "markdown",
   "metadata": {},
   "source": [
    "# ***Agent Implementation using langgraph***"
   ]
  },
  {
   "cell_type": "code",
   "execution_count": 2,
   "metadata": {},
   "outputs": [],
   "source": [
    "from typing import TypedDict\n",
    "\n",
    "class AgentState(TypedDict):\n",
    "    # The add_messages function defines how an update should be processed\n",
    "    # Default is to replace. add_messages says \"append\"\n",
    "    messages: str\n",
    "    decision: str\n",
    "    question: str\n",
    "    answer: str"
   ]
  },
  {
   "cell_type": "code",
   "execution_count": 6,
   "metadata": {},
   "outputs": [],
   "source": [
    "from langchain.tools import tool\n",
    "import os\n",
    "\n",
    "@tool\n",
    "def store_history(state: AgentState) -> AgentState:\n",
    "    \"\"\"\n",
    "    Download the chat history on the system\n",
    "    \"\"\"\n",
    "\n",
    "    # function definition starts from here\n",
    "\n",
    "    directories=os.listdir()\n",
    "    if 'interview' not in directories:\n",
    "        os.mkdir('interview')\n",
    "\n",
    "    file_path=f\"interview/test.txt\"\n",
    "\n",
    "    with open(file_path,'w+') as file:\n",
    "        file.writelines(chat_history)\n",
    "\n",
    "    return {\"message\":\"chat history stored successfully\"}\n",
    "\n",
    "\n",
    "from langchain.tools import tool\n",
    "from dotenv import load_dotenv\n",
    "from openai import AzureOpenAI\n",
    "import pandas as pd\n",
    "import os\n",
    "\n",
    "load_dotenv()\n",
    "\n",
    "\n",
    "@tool\n",
    "def get_report(state: AgentState) -> AgentState:\n",
    "    \"\"\"\n",
    "    Test the interview chat against a benchmark and store the report \n",
    "    \"\"\"\n",
    "\n",
    "    rubrics=pd.read_csv(\"eval_rubrics.csv\")\n",
    "\n",
    "    # function definition starts here\n",
    "\n",
    "    client = AzureOpenAI(\n",
    "    api_key = os.getenv(\"AZURE_OPENAI_4o_API_KEY\"),  \n",
    "    api_version = os.getenv(\"API_VERSION_4o\"),\n",
    "    azure_endpoint = os.getenv(\"AZURE_OPENAI_4o_ENDPOINT\")\n",
    "    )\n",
    "\n",
    "    response = client.chat.completions.create(\n",
    "        model=\"gpt-4o\",\n",
    "        messages=[\n",
    "            {\"role\": \"system\", \"content\": f\"\"\"You are a corporate interviewer responsible for grading the candidates according to their responses \\\n",
    "             This is the criterian for evaluation {rubrics}. \\\n",
    "\n",
    "             Question asked from the candidate: {state['question'][-1]}. \\\n",
    "             Response given by the candidate: {state['answer'][-1]}. \\\n",
    "             Just give the scores without explaination under each criteria according to the relevance to the job. \\\n",
    "             Give answer in the following format: Relevance,4\\nAccuracy,3\\nClarity,3\\nDepth,2\\nLanguage Use,3\\nCompleteness,2 \n",
    " \"\"\"}])\n",
    "\n",
    "    score=response.choices[0].message.content\n",
    "    # score=score.replace(',',':')\n",
    "\n",
    "    return score\n",
    "\n",
    "            #  This is the candidate's resume: {resume}. \\\n",
    "            #  This is the job description: {jd}. \\\n",
    "\n",
    "import os\n",
    "from dotenv import load_dotenv\n",
    "from openai import AzureOpenAI\n",
    "from langchain.tools import tool\n",
    "\n",
    "load_dotenv()\n",
    "\n",
    "@tool\n",
    "def ask_question(state: AgentState) -> AgentState:\n",
    "    \"\"\"\n",
    "    LLM for generating a new question to be asked from the candidate\n",
    "    \"\"\"\n",
    "    print(\"generate question\")\n",
    "    # function definition starts here\n",
    "\n",
    "    client = AzureOpenAI(\n",
    "    api_key = os.getenv(\"AZURE_OPENAI_4o_API_KEY\"),  \n",
    "    api_version = os.getenv(\"API_VERSION_4o\"),\n",
    "    azure_endpoint = os.getenv(\"AZURE_OPENAI_4o_ENDPOINT\")\n",
    "    )\n",
    "\n",
    "    response = client.chat.completions.create(\n",
    "        model=\"gpt-4o\",\n",
    "        messages=[\n",
    "            {\"role\": \"system\", \"content\": f\"\"\"You are a corporate interviewer responsible for taking candidate interviews. \\\n",
    "             This is a technical round, hence you need to ask questions regarding relevant technologies. \\\n",
    "             You may ask some short syntax or a conceptual question. \\\n",
    "             This is the job description: {jd}. \\\n",
    "             This is the candidate's resume: {resume}. \\\n",
    "             This is the past interaction you had with the candidate: {chat_history}. \\\n",
    "             Either ask a review question on candidate's last reponse or ask a new question. \\\n",
    "             Make sure to only ask a single question. \\\n",
    "             The question needs to be relevant to the job description or the candidate's past experience.\"\"\"}])\n",
    "\n",
    "    question=response.choices[0].message.content\n",
    "    return {\"question\":question}\n"
   ]
  },
  {
   "cell_type": "markdown",
   "metadata": {},
   "source": [
    "# Defining the boss (supervising LLM)"
   ]
  },
  {
   "cell_type": "code",
   "execution_count": 7,
   "metadata": {},
   "outputs": [],
   "source": [
    "import os\n",
    "from dotenv import load_dotenv\n",
    "from openai import AzureOpenAI\n",
    "from langchain.tools.render import render_text_description\n",
    "from langchain_core.output_parsers import JsonOutputParser\n",
    "\n",
    "load_dotenv()\n",
    "\n",
    "chat_history=\"\"\n",
    "\n",
    "\n",
    "tools=[ask_question,store_history]\n",
    "\n",
    "rendered_tools = render_text_description(tools)\n",
    "\n",
    "def handle_interview(state: AgentState) -> AgentState:\n",
    "    print(\"what next?\")\n",
    "    client = AzureOpenAI(\n",
    "    api_key = os.getenv(\"AZURE_OPENAI_4o_API_KEY\"),  \n",
    "    api_version = os.getenv(\"API_VERSION_4o\"),\n",
    "    azure_endpoint = os.getenv(\"AZURE_OPENAI_4o_ENDPOINT\")\n",
    "    )\n",
    "\n",
    "    decision = client.chat.completions.create(\n",
    "        model=\"gpt-4o\",\n",
    "        messages=[\n",
    "            {\"role\": \"system\", \"content\": f\"\"\"\n",
    "                You are a corporate interviewer responsible for taking candidate interviews. Decide whether to ask another question or end the conversation.\n",
    "                This is the job description: {jd}.\n",
    "                This is the candidate's resume: {resume}.\n",
    "                This is the past interaction you had with the candidate: {chat_history}.\n",
    "                Respond with 'ask' to ask another question or 'end' to end the conversation.\n",
    "                \"\"\"}]).choices[0].message.content\n",
    "\n",
    "    state[\"decision\"]=decision    \n",
    "    return state\n"
   ]
  },
  {
   "cell_type": "code",
   "execution_count": 8,
   "metadata": {},
   "outputs": [],
   "source": [
    "def human_interaction(state: AgentState) -> AgentState:\n",
    "    # This function should prompt for human input and update the state accordingly\n",
    "    human_decision = input(\"RESPONSE: \")\n",
    "    state['answer'].append(human_decision)\n",
    "    return {\"answer\":human_decision}"
   ]
  },
  {
   "cell_type": "markdown",
   "metadata": {},
   "source": [
    "# Langgraph starts"
   ]
  },
  {
   "cell_type": "code",
   "execution_count": 10,
   "metadata": {},
   "outputs": [
    {
     "data": {
      "image/jpeg": "[encoded data removed]",
      "text/plain": [
       "<IPython.core.display.Image object>"
      ]
     },
     "metadata": {},
     "output_type": "display_data"
    }
   ],
   "source": [
    "from langgraph.graph import END, StateGraph, START, MessagesState\n",
    "from langgraph.prebuilt import ToolNode\n",
    "from langgraph.checkpoint import MemorySaver\n",
    "from typing import Annotated, Literal, TypedDict,Sequence\n",
    "from langgraph.graph.message import add_messages\n",
    "\n",
    "\n",
    "# class AgentState(TypedDict):\n",
    "#     # The add_messages function defines how an update should be processed\n",
    "#     # Default is to replace. add_messages says \"append\"\n",
    "#     messages: str\n",
    "#     decision: str\n",
    "#     question: str\n",
    "#     answer: str\n",
    "\n",
    "# Define a new graph\n",
    "workflow = StateGraph(AgentState)\n",
    "\n",
    "# Define the nodes we will cycle between\n",
    "workflow.add_node(\"agent\", handle_interview)  # agent\n",
    "QUESTION = ToolNode([ask_question])\n",
    "workflow.add_node(\"QUESTION\", ask_question) \n",
    "REPORT = ToolNode([get_report])\n",
    "workflow.add_node(\"REPORT\", REPORT)\n",
    "STORE = ToolNode([store_history])\n",
    "workflow.add_node(\"STORE\", STORE) \n",
    "\n",
    "workflow.add_node(\"HUMAN_INTERACTION\", human_interaction)\n",
    "\n",
    "workflow.add_edge(START, \"agent\")\n",
    "\n",
    "def decision_function(state: AgentState) -> Literal[\"QUESTION\", \"STORE\"]:\n",
    "    if state[\"decision\"] == \"ask\":\n",
    "        return \"QUESTION\"\n",
    "    else:\n",
    "        return \"STORE\"\n",
    "\n",
    "\n",
    "workflow.add_conditional_edges(\"agent\", decision_function,)\n",
    "\n",
    "workflow.add_edge(\"QUESTION\", \"HUMAN_INTERACTION\")\n",
    "workflow.add_edge(\"HUMAN_INTERACTION\",\"REPORT\")\n",
    "workflow.add_edge(\"REPORT\",\"agent\")\n",
    "workflow.add_edge(\"STORE\", END)\n",
    "\n",
    "checkpointer = MemorySaver()\n",
    "# Compile\n",
    "graph = workflow.compile(checkpointer=checkpointer)\n",
    "\n",
    "from IPython.display import Image, display\n",
    "\n",
    "try:\n",
    "    display(Image(graph.get_graph(xray=True).draw_mermaid_png()))\n",
    "except Exception:\n",
    "    pass"
   ]
  },
  {
   "cell_type": "code",
   "execution_count": 16,
   "metadata": {},
   "outputs": [
    {
     "name": "stdout",
     "output_type": "stream",
     "text": [
      "what next?\n",
      "\"Node 'agent':\"\n",
      "{'answer': '', 'decision': 'ask', 'messages': 'start interview', 'question': ''}\n",
      "'\\n---\\n'\n"
     ]
    },
    {
     "ename": "ValidationError",
     "evalue": "1 validation error for ask_questionSchema\nstate\n  field required (type=value_error.missing)",
     "output_type": "error",
     "traceback": [
      "\u001b[1;31m---------------------------------------------------------------------------\u001b[0m",
      "\u001b[1;31mValidationError\u001b[0m                           Traceback (most recent call last)",
      "Cell \u001b[1;32mIn[16], line 6\u001b[0m\n\u001b[0;32m      3\u001b[0m inputs\u001b[38;5;241m=\u001b[39m{\u001b[38;5;124m\"\u001b[39m\u001b[38;5;124mmessages\u001b[39m\u001b[38;5;124m\"\u001b[39m:\u001b[38;5;124m\"\u001b[39m\u001b[38;5;124mstart interview\u001b[39m\u001b[38;5;124m\"\u001b[39m,\u001b[38;5;124m\"\u001b[39m\u001b[38;5;124mdecision\u001b[39m\u001b[38;5;124m\"\u001b[39m:\u001b[38;5;124m\"\u001b[39m\u001b[38;5;124m\"\u001b[39m,\u001b[38;5;124m\"\u001b[39m\u001b[38;5;124mquestion\u001b[39m\u001b[38;5;124m\"\u001b[39m:\u001b[38;5;124m\"\u001b[39m\u001b[38;5;124m\"\u001b[39m,\u001b[38;5;124m\"\u001b[39m\u001b[38;5;124manswer\u001b[39m\u001b[38;5;124m\"\u001b[39m:\u001b[38;5;124m\"\u001b[39m\u001b[38;5;124m\"\u001b[39m}\n\u001b[0;32m      5\u001b[0m \u001b[38;5;66;03m# Iterate over the stream of outputs from the graph\u001b[39;00m\n\u001b[1;32m----> 6\u001b[0m \u001b[38;5;28;43;01mfor\u001b[39;49;00m\u001b[43m \u001b[49m\u001b[43moutput\u001b[49m\u001b[43m \u001b[49m\u001b[38;5;129;43;01min\u001b[39;49;00m\u001b[43m \u001b[49m\u001b[43mgraph\u001b[49m\u001b[38;5;241;43m.\u001b[39;49m\u001b[43mstream\u001b[49m\u001b[43m(\u001b[49m\u001b[43minputs\u001b[49m\u001b[43m,\u001b[49m\u001b[43mconfig\u001b[49m\u001b[38;5;241;43m=\u001b[39;49m\u001b[43m{\u001b[49m\u001b[38;5;124;43m\"\u001b[39;49m\u001b[38;5;124;43mconfigurable\u001b[39;49m\u001b[38;5;124;43m\"\u001b[39;49m\u001b[43m:\u001b[49m\u001b[43m \u001b[49m\u001b[43m{\u001b[49m\u001b[38;5;124;43m\"\u001b[39;49m\u001b[38;5;124;43mthread_id\u001b[39;49m\u001b[38;5;124;43m\"\u001b[39;49m\u001b[43m:\u001b[49m\u001b[43m \u001b[49m\u001b[38;5;241;43m42\u001b[39;49m\u001b[43m}\u001b[49m\u001b[43m}\u001b[49m\u001b[43m)\u001b[49m\u001b[43m:\u001b[49m\n\u001b[0;32m      7\u001b[0m \u001b[43m    \u001b[49m\u001b[38;5;28;43;01mfor\u001b[39;49;00m\u001b[43m \u001b[49m\u001b[43mkey\u001b[49m\u001b[43m,\u001b[49m\u001b[43m \u001b[49m\u001b[43mvalue\u001b[49m\u001b[43m \u001b[49m\u001b[38;5;129;43;01min\u001b[39;49;00m\u001b[43m \u001b[49m\u001b[43moutput\u001b[49m\u001b[38;5;241;43m.\u001b[39;49m\u001b[43mitems\u001b[49m\u001b[43m(\u001b[49m\u001b[43m)\u001b[49m\u001b[43m:\u001b[49m\n\u001b[0;32m      8\u001b[0m \u001b[43m        \u001b[49m\u001b[38;5;66;43;03m# Print the node key\u001b[39;49;00m\n\u001b[0;32m      9\u001b[0m \u001b[43m        \u001b[49m\u001b[43mpprint\u001b[49m\u001b[43m(\u001b[49m\u001b[38;5;124;43mf\u001b[39;49m\u001b[38;5;124;43m\"\u001b[39;49m\u001b[38;5;124;43mNode \u001b[39;49m\u001b[38;5;124;43m'\u001b[39;49m\u001b[38;5;132;43;01m{\u001b[39;49;00m\u001b[43mkey\u001b[49m\u001b[38;5;132;43;01m}\u001b[39;49;00m\u001b[38;5;124;43m'\u001b[39;49m\u001b[38;5;124;43m:\u001b[39;49m\u001b[38;5;124;43m\"\u001b[39;49m\u001b[43m)\u001b[49m\n",
      "File \u001b[1;32mc:\\Users\\BYPB5362\\AppData\\Local\\Programs\\Python\\Python312\\Lib\\site-packages\\langgraph\\pregel\\__init__.py:1073\u001b[0m, in \u001b[0;36mPregel.stream\u001b[1;34m(self, input, config, stream_mode, output_keys, input_keys, interrupt_before, interrupt_after, debug)\u001b[0m\n\u001b[0;32m   1070\u001b[0m         \u001b[38;5;28;01mdel\u001b[39;00m fut, task\n\u001b[0;32m   1072\u001b[0m \u001b[38;5;66;03m# panic on failure or timeout\u001b[39;00m\n\u001b[1;32m-> 1073\u001b[0m \u001b[43m_panic_or_proceed\u001b[49m\u001b[43m(\u001b[49m\u001b[43mdone\u001b[49m\u001b[43m,\u001b[49m\u001b[43m \u001b[49m\u001b[43minflight\u001b[49m\u001b[43m,\u001b[49m\u001b[43m \u001b[49m\u001b[43mstep\u001b[49m\u001b[43m)\u001b[49m\n\u001b[0;32m   1074\u001b[0m \u001b[38;5;66;03m# don't keep futures around in memory longer than needed\u001b[39;00m\n\u001b[0;32m   1075\u001b[0m \u001b[38;5;28;01mdel\u001b[39;00m done, inflight, futures\n",
      "File \u001b[1;32mc:\\Users\\BYPB5362\\AppData\\Local\\Programs\\Python\\Python312\\Lib\\site-packages\\langgraph\\pregel\\__init__.py:1643\u001b[0m, in \u001b[0;36m_panic_or_proceed\u001b[1;34m(done, inflight, step)\u001b[0m\n\u001b[0;32m   1641\u001b[0m             inflight\u001b[38;5;241m.\u001b[39mpop()\u001b[38;5;241m.\u001b[39mcancel()\n\u001b[0;32m   1642\u001b[0m         \u001b[38;5;66;03m# raise the exception\u001b[39;00m\n\u001b[1;32m-> 1643\u001b[0m         \u001b[38;5;28;01mraise\u001b[39;00m exc\n\u001b[0;32m   1645\u001b[0m \u001b[38;5;28;01mif\u001b[39;00m inflight:\n\u001b[0;32m   1646\u001b[0m     \u001b[38;5;66;03m# if we got here means we timed out\u001b[39;00m\n\u001b[0;32m   1647\u001b[0m     \u001b[38;5;28;01mwhile\u001b[39;00m inflight:\n\u001b[0;32m   1648\u001b[0m         \u001b[38;5;66;03m# cancel all pending tasks\u001b[39;00m\n",
      "File \u001b[1;32mc:\\Users\\BYPB5362\\AppData\\Local\\Programs\\Python\\Python312\\Lib\\concurrent\\futures\\thread.py:58\u001b[0m, in \u001b[0;36m_WorkItem.run\u001b[1;34m(self)\u001b[0m\n\u001b[0;32m     55\u001b[0m     \u001b[38;5;28;01mreturn\u001b[39;00m\n\u001b[0;32m     57\u001b[0m \u001b[38;5;28;01mtry\u001b[39;00m:\n\u001b[1;32m---> 58\u001b[0m     result \u001b[38;5;241m=\u001b[39m \u001b[38;5;28;43mself\u001b[39;49m\u001b[38;5;241;43m.\u001b[39;49m\u001b[43mfn\u001b[49m\u001b[43m(\u001b[49m\u001b[38;5;241;43m*\u001b[39;49m\u001b[38;5;28;43mself\u001b[39;49m\u001b[38;5;241;43m.\u001b[39;49m\u001b[43margs\u001b[49m\u001b[43m,\u001b[49m\u001b[43m \u001b[49m\u001b[38;5;241;43m*\u001b[39;49m\u001b[38;5;241;43m*\u001b[39;49m\u001b[38;5;28;43mself\u001b[39;49m\u001b[38;5;241;43m.\u001b[39;49m\u001b[43mkwargs\u001b[49m\u001b[43m)\u001b[49m\n\u001b[0;32m     59\u001b[0m \u001b[38;5;28;01mexcept\u001b[39;00m \u001b[38;5;167;01mBaseException\u001b[39;00m \u001b[38;5;28;01mas\u001b[39;00m exc:\n\u001b[0;32m     60\u001b[0m     \u001b[38;5;28mself\u001b[39m\u001b[38;5;241m.\u001b[39mfuture\u001b[38;5;241m.\u001b[39mset_exception(exc)\n",
      "File \u001b[1;32mc:\\Users\\BYPB5362\\AppData\\Local\\Programs\\Python\\Python312\\Lib\\site-packages\\langgraph\\pregel\\retry.py:72\u001b[0m, in \u001b[0;36mrun_with_retry\u001b[1;34m(task, retry_policy)\u001b[0m\n\u001b[0;32m     70\u001b[0m task\u001b[38;5;241m.\u001b[39mwrites\u001b[38;5;241m.\u001b[39mclear()\n\u001b[0;32m     71\u001b[0m \u001b[38;5;66;03m# run the task\u001b[39;00m\n\u001b[1;32m---> 72\u001b[0m \u001b[43mtask\u001b[49m\u001b[38;5;241;43m.\u001b[39;49m\u001b[43mproc\u001b[49m\u001b[38;5;241;43m.\u001b[39;49m\u001b[43minvoke\u001b[49m\u001b[43m(\u001b[49m\u001b[43mtask\u001b[49m\u001b[38;5;241;43m.\u001b[39;49m\u001b[43minput\u001b[49m\u001b[43m,\u001b[49m\u001b[43m \u001b[49m\u001b[43mtask\u001b[49m\u001b[38;5;241;43m.\u001b[39;49m\u001b[43mconfig\u001b[49m\u001b[43m)\u001b[49m\n\u001b[0;32m     73\u001b[0m \u001b[38;5;66;03m# if successful, end\u001b[39;00m\n\u001b[0;32m     74\u001b[0m \u001b[38;5;28;01mbreak\u001b[39;00m\n",
      "File \u001b[1;32mc:\\Users\\BYPB5362\\AppData\\Local\\Programs\\Python\\Python312\\Lib\\site-packages\\langchain_core\\runnables\\base.py:2505\u001b[0m, in \u001b[0;36mRunnableSequence.invoke\u001b[1;34m(self, input, config, **kwargs)\u001b[0m\n\u001b[0;32m   2501\u001b[0m config \u001b[38;5;241m=\u001b[39m patch_config(\n\u001b[0;32m   2502\u001b[0m     config, callbacks\u001b[38;5;241m=\u001b[39mrun_manager\u001b[38;5;241m.\u001b[39mget_child(\u001b[38;5;124mf\u001b[39m\u001b[38;5;124m\"\u001b[39m\u001b[38;5;124mseq:step:\u001b[39m\u001b[38;5;132;01m{\u001b[39;00mi\u001b[38;5;241m+\u001b[39m\u001b[38;5;241m1\u001b[39m\u001b[38;5;132;01m}\u001b[39;00m\u001b[38;5;124m\"\u001b[39m)\n\u001b[0;32m   2503\u001b[0m )\n\u001b[0;32m   2504\u001b[0m \u001b[38;5;28;01mif\u001b[39;00m i \u001b[38;5;241m==\u001b[39m \u001b[38;5;241m0\u001b[39m:\n\u001b[1;32m-> 2505\u001b[0m     \u001b[38;5;28minput\u001b[39m \u001b[38;5;241m=\u001b[39m \u001b[43mstep\u001b[49m\u001b[38;5;241;43m.\u001b[39;49m\u001b[43minvoke\u001b[49m\u001b[43m(\u001b[49m\u001b[38;5;28;43minput\u001b[39;49m\u001b[43m,\u001b[49m\u001b[43m \u001b[49m\u001b[43mconfig\u001b[49m\u001b[43m,\u001b[49m\u001b[43m \u001b[49m\u001b[38;5;241;43m*\u001b[39;49m\u001b[38;5;241;43m*\u001b[39;49m\u001b[43mkwargs\u001b[49m\u001b[43m)\u001b[49m\n\u001b[0;32m   2506\u001b[0m \u001b[38;5;28;01melse\u001b[39;00m:\n\u001b[0;32m   2507\u001b[0m     \u001b[38;5;28minput\u001b[39m \u001b[38;5;241m=\u001b[39m step\u001b[38;5;241m.\u001b[39minvoke(\u001b[38;5;28minput\u001b[39m, config)\n",
      "File \u001b[1;32mc:\\Users\\BYPB5362\\AppData\\Local\\Programs\\Python\\Python312\\Lib\\site-packages\\langchain_core\\tools.py:260\u001b[0m, in \u001b[0;36mBaseTool.invoke\u001b[1;34m(self, input, config, **kwargs)\u001b[0m\n\u001b[0;32m    253\u001b[0m \u001b[38;5;28;01mdef\u001b[39;00m \u001b[38;5;21minvoke\u001b[39m(\n\u001b[0;32m    254\u001b[0m     \u001b[38;5;28mself\u001b[39m,\n\u001b[0;32m    255\u001b[0m     \u001b[38;5;28minput\u001b[39m: Union[\u001b[38;5;28mstr\u001b[39m, Dict],\n\u001b[0;32m    256\u001b[0m     config: Optional[RunnableConfig] \u001b[38;5;241m=\u001b[39m \u001b[38;5;28;01mNone\u001b[39;00m,\n\u001b[0;32m    257\u001b[0m     \u001b[38;5;241m*\u001b[39m\u001b[38;5;241m*\u001b[39mkwargs: Any,\n\u001b[0;32m    258\u001b[0m ) \u001b[38;5;241m-\u001b[39m\u001b[38;5;241m>\u001b[39m Any:\n\u001b[0;32m    259\u001b[0m     config \u001b[38;5;241m=\u001b[39m ensure_config(config)\n\u001b[1;32m--> 260\u001b[0m     \u001b[38;5;28;01mreturn\u001b[39;00m \u001b[38;5;28;43mself\u001b[39;49m\u001b[38;5;241;43m.\u001b[39;49m\u001b[43mrun\u001b[49m\u001b[43m(\u001b[49m\n\u001b[0;32m    261\u001b[0m \u001b[43m        \u001b[49m\u001b[38;5;28;43minput\u001b[39;49m\u001b[43m,\u001b[49m\n\u001b[0;32m    262\u001b[0m \u001b[43m        \u001b[49m\u001b[43mcallbacks\u001b[49m\u001b[38;5;241;43m=\u001b[39;49m\u001b[43mconfig\u001b[49m\u001b[38;5;241;43m.\u001b[39;49m\u001b[43mget\u001b[49m\u001b[43m(\u001b[49m\u001b[38;5;124;43m\"\u001b[39;49m\u001b[38;5;124;43mcallbacks\u001b[39;49m\u001b[38;5;124;43m\"\u001b[39;49m\u001b[43m)\u001b[49m\u001b[43m,\u001b[49m\n\u001b[0;32m    263\u001b[0m \u001b[43m        \u001b[49m\u001b[43mtags\u001b[49m\u001b[38;5;241;43m=\u001b[39;49m\u001b[43mconfig\u001b[49m\u001b[38;5;241;43m.\u001b[39;49m\u001b[43mget\u001b[49m\u001b[43m(\u001b[49m\u001b[38;5;124;43m\"\u001b[39;49m\u001b[38;5;124;43mtags\u001b[39;49m\u001b[38;5;124;43m\"\u001b[39;49m\u001b[43m)\u001b[49m\u001b[43m,\u001b[49m\n\u001b[0;32m    264\u001b[0m \u001b[43m        \u001b[49m\u001b[43mmetadata\u001b[49m\u001b[38;5;241;43m=\u001b[39;49m\u001b[43mconfig\u001b[49m\u001b[38;5;241;43m.\u001b[39;49m\u001b[43mget\u001b[49m\u001b[43m(\u001b[49m\u001b[38;5;124;43m\"\u001b[39;49m\u001b[38;5;124;43mmetadata\u001b[39;49m\u001b[38;5;124;43m\"\u001b[39;49m\u001b[43m)\u001b[49m\u001b[43m,\u001b[49m\n\u001b[0;32m    265\u001b[0m \u001b[43m        \u001b[49m\u001b[43mrun_name\u001b[49m\u001b[38;5;241;43m=\u001b[39;49m\u001b[43mconfig\u001b[49m\u001b[38;5;241;43m.\u001b[39;49m\u001b[43mget\u001b[49m\u001b[43m(\u001b[49m\u001b[38;5;124;43m\"\u001b[39;49m\u001b[38;5;124;43mrun_name\u001b[39;49m\u001b[38;5;124;43m\"\u001b[39;49m\u001b[43m)\u001b[49m\u001b[43m,\u001b[49m\n\u001b[0;32m    266\u001b[0m \u001b[43m        \u001b[49m\u001b[43mrun_id\u001b[49m\u001b[38;5;241;43m=\u001b[39;49m\u001b[43mconfig\u001b[49m\u001b[38;5;241;43m.\u001b[39;49m\u001b[43mpop\u001b[49m\u001b[43m(\u001b[49m\u001b[38;5;124;43m\"\u001b[39;49m\u001b[38;5;124;43mrun_id\u001b[39;49m\u001b[38;5;124;43m\"\u001b[39;49m\u001b[43m,\u001b[49m\u001b[43m \u001b[49m\u001b[38;5;28;43;01mNone\u001b[39;49;00m\u001b[43m)\u001b[49m\u001b[43m,\u001b[49m\n\u001b[0;32m    267\u001b[0m \u001b[43m        \u001b[49m\u001b[43mconfig\u001b[49m\u001b[38;5;241;43m=\u001b[39;49m\u001b[43mconfig\u001b[49m\u001b[43m,\u001b[49m\n\u001b[0;32m    268\u001b[0m \u001b[43m        \u001b[49m\u001b[38;5;241;43m*\u001b[39;49m\u001b[38;5;241;43m*\u001b[39;49m\u001b[43mkwargs\u001b[49m\u001b[43m,\u001b[49m\n\u001b[0;32m    269\u001b[0m \u001b[43m    \u001b[49m\u001b[43m)\u001b[49m\n",
      "File \u001b[1;32mc:\\Users\\BYPB5362\\AppData\\Local\\Programs\\Python\\Python312\\Lib\\site-packages\\langchain_core\\tools.py:417\u001b[0m, in \u001b[0;36mBaseTool.run\u001b[1;34m(self, tool_input, verbose, start_color, color, callbacks, tags, metadata, run_name, run_id, config, **kwargs)\u001b[0m\n\u001b[0;32m    415\u001b[0m \u001b[38;5;28;01mexcept\u001b[39;00m ValidationError \u001b[38;5;28;01mas\u001b[39;00m e:\n\u001b[0;32m    416\u001b[0m     \u001b[38;5;28;01mif\u001b[39;00m \u001b[38;5;129;01mnot\u001b[39;00m \u001b[38;5;28mself\u001b[39m\u001b[38;5;241m.\u001b[39mhandle_validation_error:\n\u001b[1;32m--> 417\u001b[0m         \u001b[38;5;28;01mraise\u001b[39;00m e\n\u001b[0;32m    418\u001b[0m     \u001b[38;5;28;01melif\u001b[39;00m \u001b[38;5;28misinstance\u001b[39m(\u001b[38;5;28mself\u001b[39m\u001b[38;5;241m.\u001b[39mhandle_validation_error, \u001b[38;5;28mbool\u001b[39m):\n\u001b[0;32m    419\u001b[0m         observation \u001b[38;5;241m=\u001b[39m \u001b[38;5;124m\"\u001b[39m\u001b[38;5;124mTool input validation error\u001b[39m\u001b[38;5;124m\"\u001b[39m\n",
      "File \u001b[1;32mc:\\Users\\BYPB5362\\AppData\\Local\\Programs\\Python\\Python312\\Lib\\site-packages\\langchain_core\\tools.py:406\u001b[0m, in \u001b[0;36mBaseTool.run\u001b[1;34m(self, tool_input, verbose, start_color, color, callbacks, tags, metadata, run_name, run_id, config, **kwargs)\u001b[0m\n\u001b[0;32m    404\u001b[0m context \u001b[38;5;241m=\u001b[39m copy_context()\n\u001b[0;32m    405\u001b[0m context\u001b[38;5;241m.\u001b[39mrun(_set_config_context, child_config)\n\u001b[1;32m--> 406\u001b[0m parsed_input \u001b[38;5;241m=\u001b[39m \u001b[38;5;28;43mself\u001b[39;49m\u001b[38;5;241;43m.\u001b[39;49m\u001b[43m_parse_input\u001b[49m\u001b[43m(\u001b[49m\u001b[43mtool_input\u001b[49m\u001b[43m)\u001b[49m\n\u001b[0;32m    407\u001b[0m tool_args, tool_kwargs \u001b[38;5;241m=\u001b[39m \u001b[38;5;28mself\u001b[39m\u001b[38;5;241m.\u001b[39m_to_args_and_kwargs(parsed_input)\n\u001b[0;32m    408\u001b[0m observation \u001b[38;5;241m=\u001b[39m (\n\u001b[0;32m    409\u001b[0m     context\u001b[38;5;241m.\u001b[39mrun(\n\u001b[0;32m    410\u001b[0m         \u001b[38;5;28mself\u001b[39m\u001b[38;5;241m.\u001b[39m_run, \u001b[38;5;241m*\u001b[39mtool_args, run_manager\u001b[38;5;241m=\u001b[39mrun_manager, \u001b[38;5;241m*\u001b[39m\u001b[38;5;241m*\u001b[39mtool_kwargs\n\u001b[1;32m   (...)\u001b[0m\n\u001b[0;32m    413\u001b[0m     \u001b[38;5;28;01melse\u001b[39;00m context\u001b[38;5;241m.\u001b[39mrun(\u001b[38;5;28mself\u001b[39m\u001b[38;5;241m.\u001b[39m_run, \u001b[38;5;241m*\u001b[39mtool_args, \u001b[38;5;241m*\u001b[39m\u001b[38;5;241m*\u001b[39mtool_kwargs)\n\u001b[0;32m    414\u001b[0m )\n",
      "File \u001b[1;32mc:\\Users\\BYPB5362\\AppData\\Local\\Programs\\Python\\Python312\\Lib\\site-packages\\langchain_core\\tools.py:304\u001b[0m, in \u001b[0;36mBaseTool._parse_input\u001b[1;34m(self, tool_input)\u001b[0m\n\u001b[0;32m    302\u001b[0m \u001b[38;5;28;01melse\u001b[39;00m:\n\u001b[0;32m    303\u001b[0m     \u001b[38;5;28;01mif\u001b[39;00m input_args \u001b[38;5;129;01mis\u001b[39;00m \u001b[38;5;129;01mnot\u001b[39;00m \u001b[38;5;28;01mNone\u001b[39;00m:\n\u001b[1;32m--> 304\u001b[0m         result \u001b[38;5;241m=\u001b[39m \u001b[43minput_args\u001b[49m\u001b[38;5;241;43m.\u001b[39;49m\u001b[43mparse_obj\u001b[49m\u001b[43m(\u001b[49m\u001b[43mtool_input\u001b[49m\u001b[43m)\u001b[49m\n\u001b[0;32m    305\u001b[0m         \u001b[38;5;28;01mreturn\u001b[39;00m {\n\u001b[0;32m    306\u001b[0m             k: \u001b[38;5;28mgetattr\u001b[39m(result, k)\n\u001b[0;32m    307\u001b[0m             \u001b[38;5;28;01mfor\u001b[39;00m k, v \u001b[38;5;129;01min\u001b[39;00m result\u001b[38;5;241m.\u001b[39mdict()\u001b[38;5;241m.\u001b[39mitems()\n\u001b[0;32m    308\u001b[0m             \u001b[38;5;28;01mif\u001b[39;00m k \u001b[38;5;129;01min\u001b[39;00m tool_input\n\u001b[0;32m    309\u001b[0m         }\n\u001b[0;32m    310\u001b[0m \u001b[38;5;28;01mreturn\u001b[39;00m tool_input\n",
      "File \u001b[1;32mc:\\Users\\BYPB5362\\AppData\\Local\\Programs\\Python\\Python312\\Lib\\site-packages\\pydantic\\v1\\main.py:526\u001b[0m, in \u001b[0;36mBaseModel.parse_obj\u001b[1;34m(cls, obj)\u001b[0m\n\u001b[0;32m    524\u001b[0m         exc \u001b[38;5;241m=\u001b[39m \u001b[38;5;167;01mTypeError\u001b[39;00m(\u001b[38;5;124mf\u001b[39m\u001b[38;5;124m'\u001b[39m\u001b[38;5;132;01m{\u001b[39;00m\u001b[38;5;28mcls\u001b[39m\u001b[38;5;241m.\u001b[39m\u001b[38;5;18m__name__\u001b[39m\u001b[38;5;132;01m}\u001b[39;00m\u001b[38;5;124m expected dict not \u001b[39m\u001b[38;5;132;01m{\u001b[39;00mobj\u001b[38;5;241m.\u001b[39m\u001b[38;5;18m__class__\u001b[39m\u001b[38;5;241m.\u001b[39m\u001b[38;5;18m__name__\u001b[39m\u001b[38;5;132;01m}\u001b[39;00m\u001b[38;5;124m'\u001b[39m)\n\u001b[0;32m    525\u001b[0m         \u001b[38;5;28;01mraise\u001b[39;00m ValidationError([ErrorWrapper(exc, loc\u001b[38;5;241m=\u001b[39mROOT_KEY)], \u001b[38;5;28mcls\u001b[39m) \u001b[38;5;28;01mfrom\u001b[39;00m \u001b[38;5;21;01me\u001b[39;00m\n\u001b[1;32m--> 526\u001b[0m \u001b[38;5;28;01mreturn\u001b[39;00m \u001b[38;5;28;43mcls\u001b[39;49m\u001b[43m(\u001b[49m\u001b[38;5;241;43m*\u001b[39;49m\u001b[38;5;241;43m*\u001b[39;49m\u001b[43mobj\u001b[49m\u001b[43m)\u001b[49m\n",
      "File \u001b[1;32mc:\\Users\\BYPB5362\\AppData\\Local\\Programs\\Python\\Python312\\Lib\\site-packages\\pydantic\\v1\\main.py:341\u001b[0m, in \u001b[0;36mBaseModel.__init__\u001b[1;34m(__pydantic_self__, **data)\u001b[0m\n\u001b[0;32m    339\u001b[0m values, fields_set, validation_error \u001b[38;5;241m=\u001b[39m validate_model(__pydantic_self__\u001b[38;5;241m.\u001b[39m\u001b[38;5;18m__class__\u001b[39m, data)\n\u001b[0;32m    340\u001b[0m \u001b[38;5;28;01mif\u001b[39;00m validation_error:\n\u001b[1;32m--> 341\u001b[0m     \u001b[38;5;28;01mraise\u001b[39;00m validation_error\n\u001b[0;32m    342\u001b[0m \u001b[38;5;28;01mtry\u001b[39;00m:\n\u001b[0;32m    343\u001b[0m     object_setattr(__pydantic_self__, \u001b[38;5;124m'\u001b[39m\u001b[38;5;124m__dict__\u001b[39m\u001b[38;5;124m'\u001b[39m, values)\n",
      "\u001b[1;31mValidationError\u001b[0m: 1 validation error for ask_questionSchema\nstate\n  field required (type=value_error.missing)"
     ]
    }
   ],
   "source": [
    "from pprint import pprint\n",
    "\n",
    "inputs={\"messages\":\"start interview\",\"decision\":\"\",\"question\":\"\",\"answer\":\"\"}\n",
    "                            \n",
    "# Iterate over the stream of outputs from the graph\n",
    "for output in graph.stream(inputs,config={\"configurable\": {\"thread_id\": 42}}):\n",
    "    for key, value in output.items():\n",
    "        # Print the node key\n",
    "        pprint(f\"Node '{key}':\")\n",
    "\n",
    "        # Print the value associated with the node (state information)\n",
    "        pprint(value, indent=2, width=80, depth=None)  # Optionally, print full state\n",
    "    pprint(\"\\n---\\n\")  # Separate nodes with a line\n"
   ]
  }
 ],
 "metadata": {
  "kernelspec": {
   "display_name": "Python 3",
   "language": "python",
   "name": "python3"
  },
  "language_info": {
   "codemirror_mode": {
    "name": "ipython",
    "version": 3
   },
   "file_extension": ".py",
   "mimetype": "text/x-python",
   "name": "python",
   "nbconvert_exporter": "python",
   "pygments_lexer": "ipython3",
   "version": "3.12.4"
  }
 },
 "nbformat": 4,
 "nbformat_minor": 2
}
